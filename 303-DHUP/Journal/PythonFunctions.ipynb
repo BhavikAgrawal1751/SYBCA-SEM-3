{
 "cells": [
  {
   "cell_type": "code",
   "execution_count": 8,
   "metadata": {},
   "outputs": [
    {
     "name": "stdout",
     "output_type": "stream",
     "text": [
      "['roll', 'name']\n",
      "['1', 'ovesh']\n",
      "['2', 'harsh']\n",
      "['3', 'priti']\n"
     ]
    }
   ],
   "source": [
    "import csv\n",
    "with open('names.csv',\"r\") as file:\n",
    "    content = csv.reader(file)\n",
    "    for line in content:\n",
    "        print(line)"
   ]
  },
  {
   "cell_type": "code",
   "execution_count": 15,
   "metadata": {},
   "outputs": [],
   "source": [
    "with open('file.txt',\"a\") as file:\n",
    "    content = file.write(\"Bhai log nai behen log\")"
   ]
  },
  {
   "cell_type": "code",
   "execution_count": 30,
   "metadata": {},
   "outputs": [],
   "source": [
    "with open('file.txt',\"w\") as file:\n",
    "    content = file.write(\"nai nai chutiye log\")"
   ]
  },
  {
   "cell_type": "code",
   "execution_count": 6,
   "metadata": {},
   "outputs": [],
   "source": [
    "import csv\n",
    "data = [\"Month\",\"Year\"]\n",
    "x = [\n",
    "    [\"JAN\",1958],\n",
    "    [\"FEB\",1956]\n",
    "]\n",
    "with open('year.csv',\"w\") as work:\n",
    "    z = csv.writer(work)\n",
    "    z.writerow(data)\n",
    "    z.writerow(x)\n",
    "    "
   ]
  },
  {
   "cell_type": "code",
   "execution_count": null,
   "metadata": {},
   "outputs": [],
   "source": [
    "import csv"
   ]
  }
 ],
 "metadata": {
  "kernelspec": {
   "display_name": "Python 3",
   "language": "python",
   "name": "python3"
  },
  "language_info": {
   "codemirror_mode": {
    "name": "ipython",
    "version": 3
   },
   "file_extension": ".py",
   "mimetype": "text/x-python",
   "name": "python",
   "nbconvert_exporter": "python",
   "pygments_lexer": "ipython3",
   "version": "3.7.3"
  }
 },
 "nbformat": 4,
 "nbformat_minor": 2
}
