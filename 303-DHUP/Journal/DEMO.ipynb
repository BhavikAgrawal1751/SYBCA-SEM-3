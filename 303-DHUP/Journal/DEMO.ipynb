{
 "cells": [
  {
   "cell_type": "code",
   "execution_count": 3,
   "metadata": {},
   "outputs": [
    {
     "name": "stdout",
     "output_type": "stream",
     "text": [
      "Opened Database Sucessfully\n"
     ]
    }
   ],
   "source": [
    "import csv\n",
    "import sqlite3\n",
    "# import pandas as pd\n",
    "conn=sqlite3.connect('demo.db')\n",
    "# cursor=conn.cursor()\n",
    "print(\"Opened Database Sucessfully\");"
   ]
  },
  {
   "cell_type": "code",
   "execution_count": null,
   "metadata": {},
   "outputs": [],
   "source": [
    "conn.execute(\"create table company(ID int primary key not null,Name text not null,Age int not null,Address char(50),salary real);\")\n",
    "print(\"Table Created\")"
   ]
  },
  {
   "cell_type": "code",
   "execution_count": null,
   "metadata": {},
   "outputs": [],
   "source": [
    "conn.execute(\"insert into company(ID,Name,Age,Address,salary) values(1,'A',25,'california',5000.00),(2,'B',20,'TexAs',20000.00),(3,'C',21,'Norway',65000.00),(4,'D',26,'Rich-mond',75000.00);\")\n",
    "conn.commit()\n",
    "print(\"Record Insert\")"
   ]
  },
  {
   "cell_type": "code",
   "execution_count": null,
   "metadata": {},
   "outputs": [],
   "source": [
    "cursor=conn.execute(\"Select id,name,address,salary from company;\")\n",
    "for row in cursor:\n",
    "    print(\"ID = \",row[0])\n",
    "    print(\"Name = \",row[1])\n",
    "    print(\"Address = \",row[2])\n",
    "    print(\"Salary = \",row[3],\"\\n\")\n",
    "print(\"Operation Done Sucessfully\")"
   ]
  },
  {
   "cell_type": "code",
   "execution_count": null,
   "metadata": {},
   "outputs": [],
   "source": [
    "conn.execute(\"update company set salary=250000.00 where ID=1;\")\n",
    "conn.commit()"
   ]
  },
  {
   "cell_type": "code",
   "execution_count": null,
   "metadata": {},
   "outputs": [],
   "source": [
    "conn.execute(\"Delete from company where ID=2;\")\n",
    "conn.commit()\n",
    "conn.close()"
   ]
  },
  {
   "cell_type": "code",
   "execution_count": null,
   "metadata": {},
   "outputs": [],
   "source": [
    "conn.execute(\"create table temp(ID int primary key not null,Name text not null);\")\n",
    "print(\"Table Created\")"
   ]
  },
  {
   "cell_type": "code",
   "execution_count": 5,
   "metadata": {},
   "outputs": [
    {
     "data": {
      "text/plain": [
       "<sqlite3.Cursor at 0x7ff1a43eb260>"
      ]
     },
     "execution_count": 5,
     "metadata": {},
     "output_type": "execute_result"
    }
   ],
   "source": [
    "file=open('DEMO.csv')\n",
    "contents=csv.reader(file)\n",
    "insert_records=\"insert into temp(ID,Name) values (?,?)\"\n",
    "conn.executemany(insert_records,contents)"
   ]
  },
  {
   "cell_type": "code",
   "execution_count": 6,
   "metadata": {},
   "outputs": [
    {
     "name": "stdout",
     "output_type": "stream",
     "text": [
      "ID =  1\n",
      "Name =  A \n",
      "\n",
      "ID =  2\n",
      "Name =  B \n",
      "\n",
      "ID =  3\n",
      "Name =  C \n",
      "\n",
      "ID =  4\n",
      "Name =  D \n",
      "\n",
      "ID =  5\n",
      "Name =  E \n",
      "\n"
     ]
    }
   ],
   "source": [
    "cursor=conn.execute(\"select * from temp;\")\n",
    "for row in cursor:\n",
    "    print(\"ID = \",row[0])\n",
    "    print(\"Name = \",row[1],\"\\n\")"
   ]
  }
 ],
 "metadata": {
  "kernelspec": {
   "display_name": "Python 3",
   "language": "python",
   "name": "python3"
  },
  "language_info": {
   "codemirror_mode": {
    "name": "ipython",
    "version": 3
   },
   "file_extension": ".py",
   "mimetype": "text/x-python",
   "name": "python",
   "nbconvert_exporter": "python",
   "pygments_lexer": "ipython3",
   "version": "3.6.9"
  },
  "vscode": {
   "interpreter": {
    "hash": "31f2aee4e71d21fbe5cf8b01ff0e069b9275f58929596ceb00d14d90e3e16cd6"
   }
  }
 },
 "nbformat": 4,
 "nbformat_minor": 2
}
